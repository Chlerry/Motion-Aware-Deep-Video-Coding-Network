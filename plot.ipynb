{
 "cells": [
  {
   "cell_type": "code",
   "execution_count": 1,
   "metadata": {},
   "outputs": [],
   "source": [
    "import numpy as np\n",
    "from imp import reload\n",
    "import matplotlib.pyplot as plt\n"
   ]
  },
  {
   "cell_type": "code",
   "execution_count": 2,
   "metadata": {},
   "outputs": [],
   "source": [
    "compression_ratio = [0.021, 0.042, 0.083, 0.125, 0.167]\n",
    "\n",
    "pred_ssim = [0.525302982738222, 0.583055809458466, 0.624307885610034, 0.675521460132714, 0.686121628649495]\n",
    "coarse_ssim = [0.539349683798985, 0.634814921156521, 0.719094138172241, 0.792828475186316, 0.849713163726269]\n",
    "final_ssim = [0.57346751141162, 0.640008752258715, 0.697732880465114, 0.764174022832072, 0.811352196014644]\n",
    "b1_ssim = [0.5602013297,0.6420110998,0.7014580935,0.7553391714,0.7769816947]\n",
    "b2_ssim = [0.5668235561,0.6591586747,0.7257989737,0.7600180068,0.8100899633]\n",
    "pred_gnet_ssim = [0.542084942306197]"
   ]
  },
  {
   "cell_type": "code",
   "execution_count": 11,
   "metadata": {},
   "outputs": [
    {
     "data": {
      "image/png": "[encoded data removed]",
      "text/plain": [
       "<Figure size 432x288 with 1 Axes>"
      ]
     },
     "metadata": {
      "needs_background": "light"
     },
     "output_type": "display_data"
    }
   ],
   "source": [
    "# Plot the recognition accuracy rate versus different d values for both PCA and FLD\n",
    "# plt.plot(compression_ratio, pred_ssim, 'rs-', label='Prediction Net')\n",
    "plt.plot(compression_ratio, coarse_ssim, 'bo-',  label='Compression Net')\n",
    "plt.plot(compression_ratio, final_ssim, 'go-',  label='Final Decoding')\n",
    "# plt.plot(compression_ratio, b1_ssim, 'yo-',  label='B1 with Res Net')\n",
    "plt.plot(compression_ratio, b2_ssim, 'ko-',  label='B2 with Res Net')\n",
    "\n",
    "# plt.plot(compression_ratio[-1:], pred_gnet_ssim, 'ys-', label='Prediction GNet')\n",
    "plt.legend(loc = 2)\n",
    "plt.title('The SSIM versus compression ratio for the Party Scene')\n",
    "plt.xlabel('Compression Ratio')\n",
    "plt.ylabel('SSIM')\n",
    "plt.show()"
   ]
  },
  {
   "cell_type": "code",
   "execution_count": 4,
   "metadata": {},
   "outputs": [],
   "source": [
    "# Plot the recognition accuracy rate versus different d values for both PCA and FLD\n",
    "# plt.plot(compression_ratio, pred_ssim, 'rs-', label='Prediction Net')\n",
    "# plt.plot(compression_ratio, coarse_ssim, 'bo-',  label='Compression Net')\n",
    "# plt.plot(compression_ratio, final_ssim, 'go-',  label='Final Decoding')\n",
    "# plt.plot(compression_ratio, b1_ssim, 'yo-',  label='B1 with Res Net')\n",
    "# plt.plot(compression_ratio, b2_ssim, 'ko-',  label='B2 with Res Net')\n",
    "# plt.legend(loc = 2)\n",
    "# plt.title('The SSIM versus compression ratio for the Party Scene')\n",
    "# plt.xlabel('Compression Ratio')\n",
    "# plt.ylabel('SSIM')\n",
    "# plt.show()"
   ]
  },
  {
   "cell_type": "code",
   "execution_count": 5,
   "metadata": {},
   "outputs": [],
   "source": [
    "# pred_b1_b1model = [0.295439723,0.3517537524,0.3967750224,0.4358548235,0.4356822583]\n",
    "# pred_b1_bmodel = [0.2973677513,0.3752587874,0.428242013,0.4804474515,0.5025766739]\n",
    "\n",
    "# plt.plot(compression_ratio, pred_b1_b1model, 'rs-', label='B1 with B1 Model')\n",
    "# plt.plot(compression_ratio, pred_b1_bmodel, 'bo-',  label='B1 with B Model')\n",
    "\n",
    "# plt.legend(loc = 2)\n",
    "# plt.title('The SSIM versus compression ratio for the Party Scene')\n",
    "# plt.xlabel('Compression Ratio')\n",
    "# plt.ylabel('SSIM')\n",
    "# plt.show()"
   ]
  },
  {
   "cell_type": "code",
   "execution_count": 6,
   "metadata": {},
   "outputs": [],
   "source": [
    "# pred_b1_res_bmodel = [0.3579742227,0.4722428761,0.5573479103,0.6257733152,0.6687758402]\n",
    "\n",
    "# plt.plot(compression_ratio, b1_ssim, 'yo-',  label='B1 with Res Net')\n",
    "# plt.plot(compression_ratio, pred_b1_res_bmodel, 'ko-',  label='B1 Res with B Model')\n",
    "\n",
    "# plt.legend(loc = 2)\n",
    "# plt.title('The SSIM versus compression ratio for the Party Scene')\n",
    "# plt.xlabel('Compression Ratio')\n",
    "# plt.ylabel('SSIM')\n",
    "# plt.show()"
   ]
  },
  {
   "cell_type": "code",
   "execution_count": 7,
   "metadata": {},
   "outputs": [],
   "source": [
    "# pred_b2 = [0.3188903471,0.4063755591,0.4408708171,0.4946594577,0.5197031899]\n",
    "# pred_b2_bmodel = [0.3018419245,0.3775154769,0.4315091957,0.4773803634,0.5070771317]\n",
    "\n",
    "# plt.plot(compression_ratio, pred_b2, 'rs-', label='B2 Prediction Net')\n",
    "# plt.plot(compression_ratio, pred_b2_bmodel, 'bo-',  label='B2 with B Model (B1 with B)')\n",
    "\n",
    "# plt.legend(loc = 2)\n",
    "# plt.title('The SSIM versus compression ratio for the Party Scene')\n",
    "# plt.xlabel('Compression Ratio')\n",
    "# plt.ylabel('SSIM')\n",
    "# plt.show()"
   ]
  },
  {
   "cell_type": "code",
   "execution_count": 8,
   "metadata": {},
   "outputs": [],
   "source": [
    "# pred_b2 = [0.3188903471,0.4063755591,0.4408708171,0.4946594577,0.5197031899]\n",
    "# pred_b2_bmodel2 = [0.309750992,0.408053282,0.443280879,0.4995913102,0.5127325181]\n",
    "\n",
    "# plt.plot(compression_ratio, pred_b2, 'rs-', label='B2 Prediction Net')\n",
    "# plt.plot(compression_ratio, pred_b2_bmodel2, 'bo-',  label='B2 with B2 Model (B1 with B)')\n",
    "\n",
    "# plt.legend(loc = 2)\n",
    "# plt.title('The SSIM versus compression ratio for the Party Scene')\n",
    "# plt.xlabel('Compression Ratio')\n",
    "# plt.ylabel('SSIM')\n",
    "# plt.show()"
   ]
  },
  {
   "cell_type": "code",
   "execution_count": 9,
   "metadata": {},
   "outputs": [],
   "source": [
    "# pred_with_ground_truth = [0.2977112098,0.3877339924,0.4569769242,0.5110160356,0.5345309936]\n",
    "\n",
    "# plt.plot(compression_ratio, pred_ssim, 'rs-', label='Prediction Net')\n",
    "# plt.plot(compression_ratio, pred_with_ground_truth, 'bo-',  label='P Net Trained with Ground Truth')\n",
    "\n",
    "# plt.legend(loc = 2)\n",
    "# plt.title('The SSIM versus compression ratio for the Party Scene')\n",
    "# plt.xlabel('Compression Ratio')\n",
    "# plt.ylabel('SSIM')\n",
    "# plt.show()"
   ]
  },
  {
   "cell_type": "code",
   "execution_count": 10,
   "metadata": {},
   "outputs": [],
   "source": [
    "# pred_gnet3_ssim = [0.494144767045581,0.528535635312463]\n",
    "# pred_gnet4_ssim = [0.297422754301567, 0.375282109724537, 0.4473125956897779, 0.505564048158825,0.533639017162079]\n",
    "\n",
    "# plt.plot(compression_ratio, pred_ssim, 'rs-', label='Prediction Net')\n",
    "# plt.plot(compression_ratio[-2:], pred_gnet3_ssim, 'ys-', label='Prediction GNet 3')\n",
    "# plt.plot(compression_ratio, pred_gnet4_ssim, 'bo-', label='Prediction GNet 4')\n",
    "# plt.legend(loc = 2)\n",
    "# plt.title('The SSIM versus compression ratio for the Party Scene')\n",
    "# plt.xlabel('Compression Ratio')\n",
    "# plt.ylabel('SSIM')\n",
    "# plt.show()"
   ]
  }
 ],
 "metadata": {
  "kernelspec": {
   "display_name": "Python 3",
   "language": "python",
   "name": "python3"
  },
  "language_info": {
   "codemirror_mode": {
    "name": "ipython",
    "version": 3
   },
   "file_extension": ".py",
   "mimetype": "text/x-python",
   "name": "python",
   "nbconvert_exporter": "python",
   "pygments_lexer": "ipython3",
   "version": "3.7.7"
  }
 },
 "nbformat": 4,
 "nbformat_minor": 4
}
