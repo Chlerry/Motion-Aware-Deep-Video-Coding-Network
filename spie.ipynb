{
 "cells": [
  {
   "cell_type": "code",
   "execution_count": 1,
   "metadata": {},
   "outputs": [
    {
     "name": "stderr",
     "output_type": "stream",
     "text": [
      "Using TensorFlow backend.\n"
     ]
    }
   ],
   "source": [
    "import numpy as np\n",
    "from imp import reload\n",
    "from keras.layers import * # YL\n",
    "from keras.models import Model\n",
    "from keras.callbacks import ModelCheckpoint, EarlyStopping\n",
    "\n",
    "# ============== DL ===============================\n",
    "# Limit GPU memory(VRAM) usage in TensorFlow 2.0\n",
    "# https://github.com/tensorflow/tensorflow/issues/34355\n",
    "# https://medium.com/@starriet87/tensorflow-2-0-wanna-limit-gpu-memory-10ad474e2528\n",
    "\n",
    "import tensorflow as tf\n",
    "\n",
    "# ---- Method 1 ----\n",
    "gpus = tf.config.experimental.list_physical_devices('GPU')\n",
    "if gpus:\n",
    "    try:\n",
    "        for gpu in gpus:\n",
    "            tf.config.experimental.set_memory_growth(gpu, True)\n",
    "    except RuntimeError as e:\n",
    "        print(e)\n",
    "# ============== DL ===============================\n",
    "from utility.helper import psnr, load_imgs, image_to_block, regroup, save_imgs, performance_evaluation\n",
    "from utility.parameter import *\n",
    "\n",
    "import coarse.train as coarse_train\n",
    "import coarse.test as coarse_test\n",
    "import prediction.train as prediction_train\n",
    "import prediction.inference as prediction_inference\n",
    "import residue.train as residue_train \n",
    "import residue.inference as residue_inference\n",
    "\n",
    "# ============== DL ===============================\n",
    "# Default is 1e-7 which is too small for float16.  \n",
    "# Without adjusting the epsilon, we will get NaN predictions because of divide by zero problems\n",
    "import keras.backend as K\n",
    "if rtx_optimizer == True:\n",
    "    K.set_epsilon(1e-4) \n",
    "# =================================================\n",
    "\n",
    "b = 16 # blk_size\n",
    "bm = 8 # target block size to predict\n",
    "\n",
    "train_images = load_imgs(data_dir, train_start, train_end) \n",
    "test_images = load_imgs(data_dir, test_start, test_end)"
   ]
  },
  {
   "cell_type": "code",
   "execution_count": 2,
   "metadata": {},
   "outputs": [],
   "source": [
    "# from utility.helper import get_block_set\n",
    "\n",
    "# prev = get_block_set(1, train_images, 16, 8, 0)\n",
    "# new_prev = image_to_block(train_images[0:], 16, True)\n",
    "# import numpy as np\n",
    "# print(np.array_equal(prev.astype('uint8'), new_prev.astype('uint8')))\n",
    "\n",
    "# from matplotlib import pyplot as plt\n",
    "# _, axs = plt.subplots(2, 5)\n",
    "# for i in range(2): \n",
    "#     for j in range (5):\n",
    "#         axs[i, j].imshow(prev[i*52+j])"
   ]
  },
  {
   "cell_type": "code",
   "execution_count": 3,
   "metadata": {},
   "outputs": [],
   "source": [
    "# _, axs2 = plt.subplots(2, 5)\n",
    "# for i in range(2): \n",
    "#     for j in range (5):\n",
    "#         axs2[i, j].imshow(new_prev[i*52+j])"
   ]
  },
  {
   "cell_type": "code",
   "execution_count": 4,
   "metadata": {
    "scrolled": true
   },
   "outputs": [],
   "source": [
    "# # ==== coarse train ====\n",
    "# # coarse.train.model(train_images, b, training_ratio)\n",
    "\n",
    "# # ==== prediction train ====\n",
    "# decoded = coarse_test.predict(train_images, b, training_ratio)\n",
    "\n",
    "# # prediction_train.model(train_images, decoded, b, bm, training_ratio)\n",
    "\n",
    "# # ==== residue train ====\n",
    "# regrouped_prediction = prediction_inference.predict(decoded, b, bm, training_ratio, \"prediction_gnet6\")\n",
    "\n",
    "# residue_train_images = train_images[1:n_train_frames-1]\n",
    "# residue = residue_train_images - regrouped_prediction\n",
    "# residue_train.model(residue, b, training_ratio)"
   ]
  },
  {
   "cell_type": "code",
   "execution_count": 5,
   "metadata": {},
   "outputs": [
    {
     "name": "stdout",
     "output_type": "stream",
     "text": [
      "Loaded model from C:/Users/danni/Documents/GitHub/SPIEcode-Daniel/models/BlowingBubbles_416x240_50/48/hdf5/coarse.hdf5\n",
      "n_evaluated: 100\n",
      "average test coarse_amse: 69.14378108306624\n",
      "average test coarse_apsnr: 29.736593366679628\n",
      "average test coarse_assim: 0.5438694983055222\n"
     ]
    }
   ],
   "source": [
    "# =================================================\n",
    "decoded = coarse_test.predict(test_images, b, testing_ratio)\n",
    "\n",
    "start, step = 0, 1\n",
    "n2_evaluated, coarse_amse, coarse_apsnr, coarse_assim = performance_evaluation(test_images, decoded, start, step)\n",
    "print('n_evaluated:',n2_evaluated)\n",
    "print('average test coarse_amse:',coarse_amse)\n",
    "print('average test coarse_apsnr:',coarse_apsnr)\n",
    "print('average test coarse_assim:',coarse_assim)"
   ]
  },
  {
   "cell_type": "code",
   "execution_count": 6,
   "metadata": {},
   "outputs": [
    {
     "name": "stdout",
     "output_type": "stream",
     "text": [
      "Loaded model from C:/Users/danni/Documents/GitHub/SPIEcode-Daniel/models/BlowingBubbles_416x240_50/48/hdf5/prediction.hdf5\n",
      "n0_evaluated: 98\n",
      "average test pred_amse: 70.22532879137232\n",
      "average test pred_apsnr: 29.669637141475242\n",
      "average test pred_assim: 0.5363924049629113\n"
     ]
    }
   ],
   "source": [
    "residue_test_images = test_images[1:-1]\n",
    "regrouped_prediction = prediction_inference.predict(decoded, 16, 8, testing_ratio, \"prediction\")\n",
    "\n",
    "start, step = 0, 1\n",
    "n0_evaluated, pred_amse, pred_apsnr, pred_assim = performance_evaluation(residue_test_images, regrouped_prediction, start, step)\n",
    "print('n0_evaluated:',n0_evaluated)\n",
    "print('average test pred_amse:',pred_amse)\n",
    "print('average test pred_apsnr:',pred_apsnr)\n",
    "print('average test pred_assim:',pred_assim)"
   ]
  },
  {
   "cell_type": "code",
   "execution_count": 7,
   "metadata": {},
   "outputs": [
    {
     "name": "stdout",
     "output_type": "stream",
     "text": [
      "Loaded model from C:/Users/danni/Documents/GitHub/SPIEcode-Daniel/models/BlowingBubbles_416x240_50/48/hdf5/residue.hdf5\n",
      "n_evaluated: 98\n",
      "average test pred_res_amse: 67.50379525608321\n",
      "average test pred_res_apsnr: 29.841585160341676\n",
      "average test pred_res_assim: 0.5824938440765934\n"
     ]
    }
   ],
   "source": [
    "residue = residue_test_images - regrouped_prediction\n",
    "residue_predicted_frames = residue_inference.predict(residue, b, testing_ratio)\n",
    "final_frame = np.add(regrouped_prediction, residue_predicted_frames)\n",
    "\n",
    "start, step = 0, 1\n",
    "n_evaluated, pred_res_amse, pred_res_apsnr, pred_res_assim = performance_evaluation(residue_test_images, final_frame, start, step)\n",
    "print('n_evaluated:',n_evaluated)\n",
    "print('average test pred_res_amse:',pred_res_amse)\n",
    "print('average test pred_res_apsnr:',pred_res_apsnr)\n",
    "print('average test pred_res_assim:',pred_res_assim)"
   ]
  },
  {
   "cell_type": "code",
   "execution_count": 8,
   "metadata": {},
   "outputs": [],
   "source": [
    "# print('average test overall_amse:', (pred_res_amse+coarse_amse)/2.0)\n",
    "# print('average test overall_apsnr:', (pred_res_apsnr+coarse_apsnr)/2.0)\n",
    "# print('average test overall_assim:', (pred_res_assim+coarse_assim)/2.0)"
   ]
  },
  {
   "cell_type": "code",
   "execution_count": 9,
   "metadata": {},
   "outputs": [],
   "source": [
    "# a = decoded[1:-1].flatten()\n",
    "# b = regrouped_prediction.flatten()\n",
    "# c = final_frame.flatten()"
   ]
  },
  {
   "cell_type": "code",
   "execution_count": 10,
   "metadata": {},
   "outputs": [],
   "source": [
    "# import numpy as np\n",
    "# import pandas as pd\n",
    "# import seaborn as sns\n",
    "# import matplotlib.pyplot as plt\n",
    "# from scipy import stats"
   ]
  },
  {
   "cell_type": "code",
   "execution_count": 11,
   "metadata": {},
   "outputs": [],
   "source": [
    "# sns.distplot(a);"
   ]
  },
  {
   "cell_type": "code",
   "execution_count": 12,
   "metadata": {},
   "outputs": [],
   "source": [
    "# sns.distplot(b);"
   ]
  },
  {
   "cell_type": "code",
   "execution_count": 13,
   "metadata": {},
   "outputs": [],
   "source": [
    "# sns.distplot(c);"
   ]
  }
 ],
 "metadata": {
  "kernelspec": {
   "display_name": "Python 3",
   "language": "python",
   "name": "python3"
  },
  "language_info": {
   "codemirror_mode": {
    "name": "ipython",
    "version": 3
   },
   "file_extension": ".py",
   "mimetype": "text/x-python",
   "name": "python",
   "nbconvert_exporter": "python",
   "pygments_lexer": "ipython3",
   "version": "3.7.7"
  }
 },
 "nbformat": 4,
 "nbformat_minor": 4
}
